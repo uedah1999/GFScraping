{
  "nbformat": 4,
  "nbformat_minor": 0,
  "metadata": {
    "colab": {
      "name": "nds_clip_loader",
      "provenance": [],
      "collapsed_sections": [],
      "authorship_tag": "ABX9TyPk1xgElCW90LSDqBK+xFvI",
      "include_colab_link": true
    },
    "kernelspec": {
      "name": "python3",
      "display_name": "Python 3"
    }
  },
  "cells": [
    {
      "cell_type": "markdown",
      "metadata": {
        "id": "view-in-github",
        "colab_type": "text"
      },
      "source": [
        "<a href=\"https://colab.research.google.com/github/uedah1999/GFScraping/blob/main/nds_clip_loader.ipynb\" target=\"_parent\"><img src=\"https://colab.research.google.com/assets/colab-badge.svg\" alt=\"Open In Colab\"/></a>"
      ]
    },
    {
      "cell_type": "markdown",
      "metadata": {
        "id": "tVsRJvfUD-yr"
      },
      "source": [
        "# Documentation and usage\n",
        "This Colab notebook was written by Hiromichi Ueda '21 (DataSquad) in February 2021\n",
        "Last execution in February 2021 with Python 3.8.3, Selenium 3.141.0, Pandas 1.2.0\n",
        "\n",
        "The script creates a csv file from .eml files of emails from News Data Service in a folder, then downloads the broadcast clips as mp4 files in assigned folder.\n",
        "\n",
        "For basic usage of how to run colab, go to [official intro](https://colab.research.google.com/notebooks/intro.ipynb#recent=true). "
      ]
    },
    {
      "cell_type": "markdown",
      "metadata": {
        "id": "A6D1ufT43Tco"
      },
      "source": [
        "# Install required modules and mount drive data"
      ]
    },
    {
      "cell_type": "code",
      "metadata": {
        "id": "26rZ1__J2aGH"
      },
      "source": [
        "# install chromium, its driver, and selenium\n",
        "!apt install chromium-chromedriver\n",
        "!cp /usr/lib/chromium-browser/chromedriver /usr/bin\n",
        "!pip install selenium"
      ],
      "execution_count": null,
      "outputs": []
    },
    {
      "cell_type": "code",
      "metadata": {
        "id": "mJzo4Orq3oNh"
      },
      "source": [
        "# mount Drive\n",
        "from google.colab import drive\n",
        "drive.mount('/content/drive', force_remount=True)"
      ],
      "execution_count": null,
      "outputs": []
    },
    {
      "cell_type": "code",
      "metadata": {
        "id": "9uCmJWgW35LW"
      },
      "source": [
        "# change this line to navigate to the desired location\n",
        "%cd drive/MyDrive/COMPS/"
      ],
      "execution_count": null,
      "outputs": []
    },
    {
      "cell_type": "markdown",
      "metadata": {
        "id": "Xp1u6cNz4mfv"
      },
      "source": [
        "# Body of code"
      ]
    },
    {
      "cell_type": "code",
      "metadata": {
        "id": "ss1EhQEj20uI"
      },
      "source": [
        "import pandas as pd\n",
        "import time\n",
        "import requests\n",
        "import email\n",
        "import os\n",
        "from email.header import decode_header\n",
        "from selenium import webdriver\n",
        "from selenium.webdriver.common.action_chains import ActionChains\n",
        "from selenium.webdriver.common.keys import Keys\n",
        "from selenium.webdriver.chrome.options import Options"
      ],
      "execution_count": null,
      "outputs": []
    },
    {
      "cell_type": "code",
      "metadata": {
        "id": "RhCVD8J04lX1"
      },
      "source": [
        "# originally created by https://qiita.com/denzow/items/a42d344fa343cd80cf86 (blog post in Japanese)\n",
        "class MailParser(object):\n",
        "    \"\"\"\n",
        "    parse an eml file whose path is given\n",
        "    \"\"\"\n",
        "\n",
        "    def __init__(self, mail_file_path):\n",
        "        self.mail_file_path = mail_file_path\n",
        "        # obtain email.message.Message instance from eml file\n",
        "        with open(mail_file_path, 'rb') as email_file:\n",
        "            self.email_message = email.message_from_bytes(email_file.read())\n",
        "        self.subject = None\n",
        "        self.to_address = None\n",
        "        self.cc_address = None\n",
        "        self.from_address = None\n",
        "        self.body = \"\"\n",
        "        # dictionary for attachment\n",
        "        # {name: file_name, data: data}\n",
        "        self.attach_file_list = []\n",
        "        self._parse()\n",
        "\n",
        "    def get_attr_data(self):\n",
        "        \"\"\"\n",
        "        obtain email data\n",
        "        \"\"\"\n",
        "        result = \"\"\"\\\n",
        "        FROM: {}\n",
        "        TO: {}\n",
        "        CC: {}\n",
        "        SUBJECT: {}\n",
        "        -----------------------\n",
        "        BODY:\n",
        "        {}\n",
        "        -----------------------\n",
        "        ATTACH_FILE_NAME:\n",
        "        {}\n",
        "        \"\"\".format(\n",
        "            self.from_address,\n",
        "            self.to_address,\n",
        "            self.cc_address,\n",
        "            self.subject,\n",
        "            self.body,\n",
        "            \",\".join([ x[\"name\"] for x in self.attach_file_list])\n",
        "        )\n",
        "        return result\n",
        "\n",
        "\n",
        "    def _parse(self):\n",
        "        \"\"\"\n",
        "        parse eml file\n",
        "        called by __init__\n",
        "        \"\"\"\n",
        "        self.subject = self._get_decoded_header(\"Subject\")\n",
        "        self.to_address = self._get_decoded_header(\"To\")\n",
        "        self.cc_address = self._get_decoded_header(\"Cc\")\n",
        "        self.from_address = self._get_decoded_header(\"From\")\n",
        "\n",
        "        # parse body\n",
        "        for part in self.email_message.walk():\n",
        "            # if ContentType is multipart, skip\n",
        "            if part.get_content_maintype() == 'multipart':\n",
        "                continue\n",
        "            # obtain attachment file name\n",
        "            attach_fname = part.get_filename()\n",
        "            # if there is no attachment name, then parse the body\n",
        "            if not attach_fname:\n",
        "                charset = str(part.get_content_charset())\n",
        "                if charset:\n",
        "                    self.body += part.get_payload(decode=True).decode(charset, errors=\"replace\")\n",
        "                else:\n",
        "                    self.body += part.get_payload(decode=True)\n",
        "            else:\n",
        "                # if there is an attachment name, obtain the file name and data\n",
        "                self.attach_file_list.append({\n",
        "                    \"name\": attach_fname,\n",
        "                    \"data\": part.get_payload(decode=True)\n",
        "                })\n",
        "\n",
        "    def _get_decoded_header(self, key_name):\n",
        "        \"\"\"\n",
        "        obtain decoded header\n",
        "        \"\"\"\n",
        "        ret = \"\"\n",
        "\n",
        "        # if no corresponding item, return empty string\n",
        "        raw_obj = self.email_message.get(key_name)\n",
        "        if raw_obj is None:\n",
        "            return \"\"\n",
        "        # turn decoded result into unicode\n",
        "        for fragment, encoding in decode_header(raw_obj):\n",
        "            if not hasattr(fragment, \"decode\"):\n",
        "                ret += fragment\n",
        "                continue\n",
        "            # unless encoding is specified, decode with utf-8\n",
        "            if encoding:\n",
        "                ret += fragment.decode(encoding)\n",
        "            else:\n",
        "                ret += fragment.decode(\"UTF-8\")\n",
        "        return ret"
      ],
      "execution_count": null,
      "outputs": []
    },
    {
      "cell_type": "code",
      "metadata": {
        "id": "koNF339K4rH4"
      },
      "source": [
        "# returns whether the email contains the url, the program name and url if they exist\n",
        "def get_program_name_url(nds_eml_path):\n",
        "    result = MailParser(nds_eml_path)\n",
        "    if result.subject.split(',')[0] != 'Media Archive Clip Processed':\n",
        "        return False, '', ''\n",
        "    else:\n",
        "        program_name = ''\n",
        "        program_url = ''\n",
        "        for line in result.body.split('<br>'):\n",
        "            if len(line) > 5:\n",
        "                if line[:12]=='PROGRAM NAME': # Line containing clip name\n",
        "                    program_name = line[14:]\n",
        "                if line[:12]=='You can view': # Line containing the hyperlink\n",
        "                    program_url = line.split('\\\"')[1]\n",
        "        return True, program_name, program_url"
      ],
      "execution_count": null,
      "outputs": []
    },
    {
      "cell_type": "code",
      "metadata": {
        "id": "HmGg6xuF9jGw"
      },
      "source": [
        "def nds_email_scraper(email_dir, csv_file_path):\n",
        "    programs_list = []\n",
        "    print('scraping emails')\n",
        "    count = 0\n",
        "    for filename in os.listdir(email_dir):\n",
        "        eml_file_path = email_dir + '/' + filename\n",
        "        processed_eml, prog_name, prog_url = get_program_name_url(eml_file_path)\n",
        "        if processed_eml:\n",
        "            programs_list.append([prog_name, prog_url, False])\n",
        "        count += 1\n",
        "        if count%50 == 0:\n",
        "          print('scraped {} emails'.format(count))\n",
        "    df = pd.DataFrame(programs_list, columns=['name', 'url', 'downloaded'])\n",
        "    df.to_csv(csv_file_path, index=False)\n",
        "    print('emails have been scraped')"
      ],
      "execution_count": null,
      "outputs": []
    },
    {
      "cell_type": "code",
      "metadata": {
        "id": "P7FtQ3Zy41Kc"
      },
      "source": [
        "def nds_clip_loader(csv_file_path, mp4_dir):\n",
        "    # options to make webdriver run in the background \n",
        "    # taken from https://medium.com/@darektidwell1980/using-selenium-with-google-colaboratory-ca4a4f21021f\n",
        "    op = webdriver.ChromeOptions()\n",
        "    op.add_argument('-headless')\n",
        "    op.add_argument('-no-sandbox')\n",
        "    op.add_argument('-disable-dev-shm-usage')\n",
        "\n",
        "    eml_df = pd.read_csv(csv_file_path)\n",
        "\n",
        "    driver = webdriver.Chrome('chromedriver',options=op)\n",
        "    print('start downloading clips')\n",
        "    for index, row in eml_df.iterrows():\n",
        "        prog_name = row['name']\n",
        "        prog_station = prog_name[:4]\n",
        "        prog_url = row['url']\n",
        "        driver.get(prog_url)\n",
        "        time.sleep(10)\n",
        "        if row['downloaded']:\n",
        "            print('N', end='') # clip has been downloaded already\n",
        "        else:\n",
        "            try:\n",
        "                mp4_link = driver.find_element_by_xpath('//*[@id=\"DownloadText\"]/a').get_attribute('href')\n",
        "                r = requests.get(mp4_link, stream = True)\n",
        "                # download started\n",
        "                # change the filepath appropriately to meet the purpose  \n",
        "                with open('{}/{} Video/{}.mp4'.format(mp4_dir, prog_station, prog_name), 'wb') as f:  \n",
        "                    for chunk in r.iter_content(chunk_size = 1024*1024):\n",
        "                        if chunk:\n",
        "                            f.write(chunk)\n",
        "                eml_df.loc[index, 'downloaded'] = True\n",
        "                print('S', end='') # clip downloaded\n",
        "            except:\n",
        "                print('F', end='') # clip not downloaded\n",
        "                driver.quit()\n",
        "                driver = webdriver.Chrome(options=op)\n",
        "    \n",
        "        if (index+1)%50 == 0:\n",
        "            eml_df.to_csv(csv_file_path, index=False)\n",
        "            print('')\n",
        "    driver.quit()\n",
        "    print('\\ndownloading complete')\n",
        "    eml_df.to_csv(csv_file_path, index=False)"
      ],
      "execution_count": null,
      "outputs": []
    },
    {
      "cell_type": "markdown",
      "metadata": {
        "id": "JbqM20IU46oS"
      },
      "source": [
        "# Run the main function"
      ]
    },
    {
      "cell_type": "code",
      "metadata": {
        "id": "UQxO9UEx44yn"
      },
      "source": [
        "# change the file and folder path appropriately\n",
        "email_dir = './NDSEmail'\n",
        "mp4_dir = './Local Video'\n",
        "csv_file_path = './Local Video/nds_clips.csv'"
      ],
      "execution_count": null,
      "outputs": []
    },
    {
      "cell_type": "code",
      "metadata": {
        "id": "4drwi7kv5Lu9"
      },
      "source": [
        "# scrape emails\n",
        "nds_email_scraper(email_dir, csv_file_path)"
      ],
      "execution_count": null,
      "outputs": []
    },
    {
      "cell_type": "code",
      "metadata": {
        "id": "f_VGdtU7-8mH"
      },
      "source": [
        "# download mp4 clips from each hyperlink\n",
        "nds_clip_loader(csv_file_path, mp4_dir)"
      ],
      "execution_count": null,
      "outputs": []
    },
    {
      "cell_type": "code",
      "metadata": {
        "id": "BO3DljtPzBut"
      },
      "source": [
        "df = pd.read_csv(csv_file_path)\n",
        "df['downloaded'].value_counts()"
      ],
      "execution_count": null,
      "outputs": []
    },
    {
      "cell_type": "code",
      "metadata": {
        "id": "Dr4n-8uwXyv3"
      },
      "source": [
        "df_unscraped = df[~df['downloaded']]\n",
        "df_unscraped.to_csv('./Local Video/nds_unscraped_clips.csv')"
      ],
      "execution_count": null,
      "outputs": []
    },
    {
      "cell_type": "code",
      "metadata": {
        "id": "o6PcDxVcYd8-"
      },
      "source": [],
      "execution_count": null,
      "outputs": []
    }
  ]
}